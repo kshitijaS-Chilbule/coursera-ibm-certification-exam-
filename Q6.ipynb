{
 "cells": [
  {
   "cell_type": "markdown",
   "id": "1f3fc4d5",
   "metadata": {},
   "source": [
    "### ((5 + 4) -3) = (9-3) = 6\n",
    "### ((7)2)3 =  ((7 7))3  = (49)3  = ((49 49) 49) = (240149) = 117649\n",
    "### 5 + 62 + 1 = 5+ 12 + 1 = 17 + 1 = 18\n",
    "### (5 + 6) (2+1) = 11(2+1) = 113 = 33"
   ]
  },
  {
   "cell_type": "code",
   "execution_count": null,
   "id": "df2ec1af",
   "metadata": {},
   "outputs": [],
   "source": []
  }
 ],
 "metadata": {
  "kernelspec": {
   "display_name": "Python 3 (ipykernel)",
   "language": "python",
   "name": "python3"
  },
  "language_info": {
   "codemirror_mode": {
    "name": "ipython",
    "version": 3
   },
   "file_extension": ".py",
   "mimetype": "text/x-python",
   "name": "python",
   "nbconvert_exporter": "python",
   "pygments_lexer": "ipython3",
   "version": "3.10.9"
  }
 },
 "nbformat": 4,
 "nbformat_minor": 5
}
